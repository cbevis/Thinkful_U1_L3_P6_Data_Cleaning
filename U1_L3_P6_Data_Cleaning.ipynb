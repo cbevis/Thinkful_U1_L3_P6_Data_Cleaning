{
 "cells": [
  {
   "cell_type": "markdown",
   "metadata": {},
   "source": [
    "Data cleaning is definitely a \"practice makes perfect\" skill. Using this dataset of article open-access prices paid by the WELLCOME Trust between 2012 and 2013, \n",
    "\n",
    "1. Determine the five most common journals and the total articles for each. \n",
    "2. Next, calculate the mean, median, and standard deviation of the open-access cost per article for each journal.\n",
    "3. For a real bonus round, identify the open access prices paid by subject area.\n",
    "\n",
    "You will need to do considerable data cleaning in order to extract accurate estimates, and may want to look into data encoding methods if you get stuck."
   ]
  },
  {
   "cell_type": "code",
   "execution_count": 1,
   "metadata": {},
   "outputs": [],
   "source": [
    "import pandas as pd\n",
    "import numpy as np\n",
    "import re"
   ]
  },
  {
   "cell_type": "code",
   "execution_count": 2,
   "metadata": {},
   "outputs": [],
   "source": [
    "columns = ['PMID/PMCID', 'publisher', 'journal', 'article', 'cost']\n",
    "df = pd.read_csv('WELLCOME/WELLCOME_APCspend2013_forThinkful.csv', encoding = 'unicode_escape', \n",
    "                 header=0, names=columns)\n"
   ]
  },
  {
   "cell_type": "code",
   "execution_count": 3,
   "metadata": {},
   "outputs": [
    {
     "name": "stdout",
     "output_type": "stream",
     "text": [
      "              PMID/PMCID publisher                 journal  \\\n",
      "0                    NaN       CUP  Psychological Medicine   \n",
      "1             PMC3679557       ACS       Biomacromolecules   \n",
      "2  23043264  PMC3506128        ACS              J Med Chem   \n",
      "3    23438330 PMC3646402       ACS              J Med Chem   \n",
      "4   23438216 PMC3601604        ACS              J Org Chem   \n",
      "\n",
      "                                             article      cost  \n",
      "0  Reduced parahippocampal cortical thickness in ...     £0.00  \n",
      "1  Structural characterization of a Model Gram-ne...  £2381.04  \n",
      "2  Fumaroylamino-4,5-epoxymorphinans and related ...   £642.56  \n",
      "3  Orvinols with mixed kappa/mu opioid receptor a...   £669.64  \n",
      "4  Regioselective opening of myo-inositol orthoes...   £685.88  \n",
      "<class 'pandas.core.frame.DataFrame'>\n",
      "RangeIndex: 2127 entries, 0 to 2126\n",
      "Data columns (total 5 columns):\n",
      "PMID/PMCID    1928 non-null object\n",
      "publisher     2127 non-null object\n",
      "journal       2126 non-null object\n",
      "article       2127 non-null object\n",
      "cost          2127 non-null object\n",
      "dtypes: object(5)\n",
      "memory usage: 83.2+ KB\n",
      "None\n",
      "       PMID/PMCID publisher   journal  \\\n",
      "count        1928      2127      2126   \n",
      "unique       1880       299       984   \n",
      "top             -  Elsevier  PLoS One   \n",
      "freq            7       387        92   \n",
      "\n",
      "                                                  article      cost  \n",
      "count                                                2127      2127  \n",
      "unique                                               2126      1402  \n",
      "top     Exclusive breastfeeding, diarrhoel morbidity a...  £2040.00  \n",
      "freq                                                    2        94  \n"
     ]
    }
   ],
   "source": [
    "print(df.head())\n",
    "print(df.info())\n",
    "print(df.describe())"
   ]
  },
  {
   "cell_type": "code",
   "execution_count": 4,
   "metadata": {},
   "outputs": [
    {
     "name": "stdout",
     "output_type": "stream",
     "text": [
      "PLoS One                                           92\n",
      "PLoS ONE                                           62\n",
      "Journal of Biological Chemistry                    48\n",
      "Nucleic Acids Research                             21\n",
      "Proceedings of the National Academy of Sciences    19\n",
      "PLoS Neglected Tropical Diseases                   18\n",
      "Human Molecular Genetics                           18\n",
      "Nature Communications                              17\n",
      "PLoS Genetics                                      15\n",
      "PLoS Pathogens                                     15\n",
      "Neuroimage                                         15\n",
      "Brain                                              14\n",
      "BMC Public Health                                  14\n",
      "NeuroImage                                         14\n",
      "PLOS ONE                                           14\n",
      "Name: journal, dtype: int64\n"
     ]
    }
   ],
   "source": [
    "# Look at the top 15 most frequent journals to determine which \n",
    "print(df.journal.value_counts().head(15))"
   ]
  },
  {
   "cell_type": "code",
   "execution_count": 5,
   "metadata": {},
   "outputs": [
    {
     "name": "stdout",
     "output_type": "stream",
     "text": [
      "178        1674$\n",
      "179      1375.8$\n",
      "180        2010$\n",
      "181     1204.38$\n",
      "182      1254.6$\n",
      "183        1476$\n",
      "337      671.04$\n",
      "1599       1440$\n",
      "1600     1460.3$\n",
      "1601    1476.47$\n",
      "1602    1570.87$\n",
      "1603    1600.25$\n",
      "1604    1600.25$\n",
      "Name: cost, dtype: object\n",
      "178        1674$\n",
      "179      1375.8$\n",
      "180        2010$\n",
      "181     1204.38$\n",
      "182      1254.6$\n",
      "183        1476$\n",
      "337      671.04$\n",
      "1599       1440$\n",
      "1600     1460.3$\n",
      "1601    1476.47$\n",
      "1602    1570.87$\n",
      "1603    1600.25$\n",
      "1604    1600.25$\n",
      "Name: cost, dtype: object\n"
     ]
    }
   ],
   "source": [
    "# Check to see what units the price are in, all pounds and dollars\n",
    "print(df[df.cost.str.find('$') != -1].cost)\n",
    "print(df[df.cost.str.find('£') == -1].cost)"
   ]
  },
  {
   "cell_type": "code",
   "execution_count": 6,
   "metadata": {},
   "outputs": [
    {
     "name": "stdout",
     "output_type": "stream",
     "text": [
      "1603    1216.19\n",
      "1604    1216.19\n",
      "Name: cost, dtype: float64\n"
     ]
    }
   ],
   "source": [
    "# Assume a conversion rate of 0.76 dollars to pound\n",
    "# Remove the pound character at the start of the cost\n",
    "# Remove the dollar character at the end of the cost\n",
    "\n",
    "df.cost = df.cost.apply(lambda x: float(x[1:]) if x[0].isdigit() == False else float(x[:-1])*.76)\n",
    "print(df.cost.iloc[[1603, 1604]])"
   ]
  },
  {
   "cell_type": "code",
   "execution_count": 7,
   "metadata": {},
   "outputs": [
    {
     "name": "stdout",
     "output_type": "stream",
     "text": [
      "<class 'pandas.core.frame.DataFrame'>\n",
      "RangeIndex: 2127 entries, 0 to 2126\n",
      "Data columns (total 5 columns):\n",
      "PMID/PMCID    1928 non-null object\n",
      "publisher     2127 non-null object\n",
      "journal       2126 non-null object\n",
      "article       2127 non-null object\n",
      "cost          2127 non-null float64\n",
      "dtypes: float64(1), object(4)\n",
      "memory usage: 83.2+ KB\n"
     ]
    }
   ],
   "source": [
    "# Convert everything to lower case and remove extra spaces before and after the journal names\n",
    "df.journal = df.journal.str.lower()\n",
    "df.journal = df.journal.str.strip()\n",
    "df.journal = df.journal.str.rstrip('.')\n",
    "\n",
    "# Convert articles to lower case as well\n",
    "df.article = df.article.str.lower()\n",
    "df.article = df.article.str.strip()\n",
    "df.article = df.article.str.rstrip('.')\n",
    "\n",
    "df.head()\n",
    "df.info()"
   ]
  },
  {
   "cell_type": "code",
   "execution_count": 8,
   "metadata": {},
   "outputs": [],
   "source": [
    "# Get rid of \"the\" at the beginning of the phrase\n",
    "df.journal = df.journal.str.replace('the ', '')\n",
    "# Get rid of double spaces\n",
    "df.journal = df.journal.str.replace('  ', ' ')"
   ]
  },
  {
   "cell_type": "code",
   "execution_count": 9,
   "metadata": {},
   "outputs": [],
   "source": [
    "# Lots of different abbreviations for american journal of\n",
    "df.journal = df.journal.str.replace('americal', 'american')\n",
    "df.journal = df.journal.str.replace('american', 'am')\n",
    "\n",
    "# standardize journal abbreviaion\n",
    "df.journal = df.journal.str.replace('joural', 'journal')\n",
    "df.journal = df.journal.str.replace('jounal', 'journal')\n",
    "df.journal = df.journal.str.replace('journal of', 'j')\n",
    "df.journal = df.journal.str.replace('journal for', 'j')\n",
    "df.journal = df.journal.str.replace('jnl of', 'j')\n",
    "df.journal = df.journal.str.replace('journal', 'j')\n",
    "df.journal = df.journal.str.replace('jnl', 'j')\n",
    "df.journal = df.journal.str.replace('j.', 'j', regex=False)\n",
    "df.journal = df.journal.str.replace('the j', 'j')\n",
    "df.journal = df.journal.str.replace('jounral', 'j')\n",
    "df.journal = df.journal.str.replace('js', 'j')\n",
    "\n",
    "# replace abbreviation for and \n",
    "df.journal = df.journal.str.replace('&', 'and')"
   ]
  },
  {
   "cell_type": "code",
   "execution_count": 11,
   "metadata": {},
   "outputs": [],
   "source": [
    "# Misspellings\n",
    "df.journal = df.journal.str.replace('bioohysica', 'biophysica')\n",
    "df.journal = df.journal.str.replace('clinicla', 'clinical')\n",
    "df.journal = df.journal.str.replace('heath', 'health')\n",
    "df.journal = df.journal.str.replace('behaviour', 'behavior')\n",
    "df.journal = df.journal.str.replace('neuropathol$ ', 'neuropathologica ')\n",
    "df.journal = df.journal.str.replace('brt', 'british')\n",
    "df.journal = df.journal.str.replace('angewande', 'angewandte')\n",
    "df.journal = df.journal.str.replace('ophthalmology', 'opthalmology')\n",
    "df.journal = df.journal.str.replace('infect dis', 'infectious diseases')\n",
    "df.journal = df.journal.str.replace('sci$', 'science')\n",
    "df.journal = df.journal.str.replace('agfents', 'agents')\n",
    "df.journal = df.journal.str.replace('biinformatics', 'bioinformatics')\n",
    "df.journal = df.journal.str.replace('britsh$', 'british')\n",
    "df.journal = df.journal.str.replace('child: care, health development', 'child: care, health and development')\n",
    "df.journal = df.journal.str.replace('epigentics', 'epigenetics')\n",
    "df.journal = df.journal.str.replace('psychiatty', 'psychiatry')\n",
    "df.journal = df.journal.str.replace('epidemiol$', 'epidemiology')\n",
    "df.journal = df.journal.str.replace('epidemology', 'epidemiology')\n",
    "df.journal = df.journal.str.replace('immunol$', 'immunology')\n",
    "df.journal = df.journal.str.replace('heptology', 'hepatology')\n",
    "df.journal = df.journal.str.replace('biophysical', 'biophysical')\n",
    "df.journal = df.journal.str.replace('experiements', 'experiments')\n",
    "df.journal = df.journal.str.replace('proceddings', 'proceedings')\n",
    "\n",
    "# public library of science\n",
    "df.journal = df.journal.str.replace('public library of science', 'plos')\n",
    "df.journal = df.journal.str.replace('plos 1', 'plos one')\n",
    "df.journal = df.journal.str.replace('plosone', 'plos one')"
   ]
  },
  {
   "cell_type": "code",
   "execution_count": 12,
   "metadata": {},
   "outputs": [],
   "source": [
    "# Different abbreviations for biology\n",
    "df.journal = df.journal.str.replace('biology', 'biol')\n",
    "\n",
    "\n",
    "\n",
    "# International journal\n",
    "df.journal = df.journal.str.replace('inyernational', 'international') #miss-spelling\n",
    "df.journal = df.journal.str.replace('international j for', 'int j')\n",
    "df.journal = df.journal.str.replace('international', 'int')\n",
    "df.journal = df.journal.str.replace('the int j', 'int j')\n",
    "\n"
   ]
  },
  {
   "cell_type": "code",
   "execution_count": 13,
   "metadata": {},
   "outputs": [],
   "source": [
    "# angewandte chemie international edition magazines\n",
    "df.journal = df.journal.str.replace('angewandte chemie int edition', 'angewandte chemie')\n",
    "df.journal = df.journal.str.replace('angew chems int ed', 'angewandte chemie')\n",
    "\n",
    "# abbreviations for tropical medicine and hygine\n",
    "df.journal = df.journal.str.replace('trop med hyg', 'tropical medicine and hygiene')"
   ]
  },
  {
   "cell_type": "code",
   "execution_count": 15,
   "metadata": {},
   "outputs": [],
   "source": [
    "# clean up the acta crystallographica\n",
    "df.journal = df.journal.str.replace('acta crystallographica section d.*', 'acta crystallographica section d')\n",
    "df.journal = df.journal.str.replace('acta crystallographica, section d.*', 'acta crystallographica section d')\n",
    "#df.journal = df.journal.str.replace('acta d', 'acta crystallographica section d')\n",
    "df.journal = df.journal.str.replace('acta crystallography d', 'acta crystallographica section d')\n",
    "df.journal = df.journal.str.replace('acta crystallographica section f:.*', 'acta crystallographica section f')\n",
    "\n",
    "# clean up embo\n",
    "df.journal = df.journal.str.replace('embo.*', 'embo')\n"
   ]
  },
  {
   "cell_type": "code",
   "execution_count": 17,
   "metadata": {},
   "outputs": [],
   "source": [
    "df.journal = df.journal.str.replace('curr biol', 'current biol')\n",
    "df.journal = df.journal.str.replace('current opinions in', 'current opinion in')\n",
    "\n",
    "# Clean up 'dev world bioeth'\n",
    "df.journal = df.journal.str.replace('dev\\.', 'dev')\n",
    "df.journal = df.journal.str.replace('bioeth$', 'bioethics')\n",
    "df.journal = df.journal.str.replace('developing', 'dev')\n",
    "\n",
    "df.journal = df.journal.str.replace('development science', 'developmental science')\n",
    "\n",
    "df.journal = df.journal.str.replace('blood j 2012', 'blood')\n",
    "\n",
    "df.journal = df.journal.str.replace('scientific reports.*', 'scientific reports')\n",
    "df.journal = df.journal.str.replace('studies in history and philosophy of science part c.*', 'studies in history and philosophy of science part c')\n",
    "df.journal = df.journal.str.replace('virology j', 'virology')\n",
    "df.journal = df.journal.str.replace('trop med int health', 'tropical medicine and int health')\n",
    "df.journal = df.journal.str.replace('chem$', 'chemistry')\n",
    "df.journal = df.journal.str.replace('j biol chemistry', 'j biological chemistry')\n",
    "df.journal = df.journal.str.replace('acta neuropathol$', 'acta neuropathologica')\n",
    "df.journal = df.journal.str.replace('human mol genetics', 'human molecular genetics')\n",
    "df.journal = df.journal.str.replace('visulaized', 'visualized')\n",
    "df.journal = df.journal.str.replace('sex transm infect', 'sexually transmitted infections')\n",
    "df.journal = df.journal.str.replace('trends in neuroscience$', 'trends in neurosciences')"
   ]
  },
  {
   "cell_type": "code",
   "execution_count": 19,
   "metadata": {},
   "outputs": [],
   "source": [
    "grouped = df.groupby('journal').count()"
   ]
  },
  {
   "cell_type": "markdown",
   "metadata": {},
   "source": [
    "### 5 Most used journals and number of articles for each"
   ]
  },
  {
   "cell_type": "code",
   "execution_count": 20,
   "metadata": {},
   "outputs": [
    {
     "data": {
      "text/plain": [
       "journal\n",
       "plos one                  208\n",
       "j biological chemistry     71\n",
       "neuroimage                 29\n",
       "nucleic acids research     26\n",
       "plos genetics              24\n",
       "Name: cost, dtype: int64"
      ]
     },
     "execution_count": 20,
     "metadata": {},
     "output_type": "execute_result"
    }
   ],
   "source": [
    "# 5 most used journals and number of articles for each\n",
    "grouped.cost.nlargest(5)"
   ]
  },
  {
   "cell_type": "code",
   "execution_count": 21,
   "metadata": {},
   "outputs": [],
   "source": [
    "grouped = df.groupby('journal').cost.agg(['mean', 'median', 'std'])"
   ]
  },
  {
   "cell_type": "code",
   "execution_count": 22,
   "metadata": {},
   "outputs": [
    {
     "name": "stdout",
     "output_type": "stream",
     "text": [
      "                                            mean      median            std\n",
      "journal                                                                    \n",
      "pone-d12-17947                        999999.000  999999.000            NaN\n",
      "molecluar and cellular endocrinology  999999.000  999999.000            NaN\n",
      "experimental cell research            999999.000  999999.000            NaN\n",
      "expert reviews in molecular medicine  999999.000  999999.000            NaN\n",
      "j paediatric urology                  999999.000  999999.000            NaN\n",
      "frontiers in cognition                999999.000  999999.000            NaN\n",
      "oxford university press               999999.000  999999.000            NaN\n",
      "qualitative research                  999999.000  999999.000            NaN\n",
      "hbm j human brain mapping             999999.000  999999.000            NaN\n",
      "pmedicine-d-12-03130                  999999.000  999999.000            NaN\n",
      "genetics in medicine                  501499.500  501499.500  704984.753736\n",
      "veterinary parasitology               501243.585  501243.585  705346.672200\n",
      "vision research                       500727.590  500727.590  706076.399327\n",
      "j cognitive neuroscience              500403.925  500403.925  706534.130760\n",
      "molecular cell                        402355.042    4148.390  545571.816173\n"
     ]
    }
   ],
   "source": [
    "print((grouped.sort_values(by='mean', ascending=False)).head(15))"
   ]
  },
  {
   "cell_type": "code",
   "execution_count": 23,
   "metadata": {},
   "outputs": [
    {
     "data": {
      "text/html": [
       "<div>\n",
       "<style scoped>\n",
       "    .dataframe tbody tr th:only-of-type {\n",
       "        vertical-align: middle;\n",
       "    }\n",
       "\n",
       "    .dataframe tbody tr th {\n",
       "        vertical-align: top;\n",
       "    }\n",
       "\n",
       "    .dataframe thead th {\n",
       "        text-align: right;\n",
       "    }\n",
       "</style>\n",
       "<table border=\"1\" class=\"dataframe\">\n",
       "  <thead>\n",
       "    <tr style=\"text-align: right;\">\n",
       "      <th></th>\n",
       "      <th>PMID/PMCID</th>\n",
       "      <th>publisher</th>\n",
       "      <th>journal</th>\n",
       "      <th>article</th>\n",
       "      <th>cost</th>\n",
       "    </tr>\n",
       "  </thead>\n",
       "  <tbody>\n",
       "    <tr>\n",
       "      <th>149</th>\n",
       "      <td>PMC3234811</td>\n",
       "      <td>ASBMB</td>\n",
       "      <td>j biological chemistry</td>\n",
       "      <td>picomolar nitric oxide signals from central ne...</td>\n",
       "      <td>999999.0</td>\n",
       "    </tr>\n",
       "    <tr>\n",
       "      <th>227</th>\n",
       "      <td>3708772</td>\n",
       "      <td>BioMed Central</td>\n",
       "      <td>bmc genomics</td>\n",
       "      <td>phenotypic, genomic, and transcriptional chara...</td>\n",
       "      <td>999999.0</td>\n",
       "    </tr>\n",
       "    <tr>\n",
       "      <th>277</th>\n",
       "      <td>PMC3668259</td>\n",
       "      <td>BMC</td>\n",
       "      <td>trials</td>\n",
       "      <td>community resource centres to improve the heal...</td>\n",
       "      <td>999999.0</td>\n",
       "    </tr>\n",
       "    <tr>\n",
       "      <th>358</th>\n",
       "      <td>PMC3219211</td>\n",
       "      <td>Cambridge University Press</td>\n",
       "      <td>expert reviews in molecular medicine</td>\n",
       "      <td>pharmacological targets in the ubiquitin syste...</td>\n",
       "      <td>999999.0</td>\n",
       "    </tr>\n",
       "    <tr>\n",
       "      <th>404</th>\n",
       "      <td>PMC3533396</td>\n",
       "      <td>Company of Biologists</td>\n",
       "      <td>j cell science</td>\n",
       "      <td>pka isoforms coordinate mrna fate during nutri...</td>\n",
       "      <td>999999.0</td>\n",
       "    </tr>\n",
       "  </tbody>\n",
       "</table>\n",
       "</div>"
      ],
      "text/plain": [
       "      PMID/PMCID                   publisher  \\\n",
       "149   PMC3234811                       ASBMB   \n",
       "227      3708772             BioMed Central    \n",
       "277  PMC3668259                          BMC   \n",
       "358   PMC3219211  Cambridge University Press   \n",
       "404   PMC3533396       Company of Biologists   \n",
       "\n",
       "                                  journal  \\\n",
       "149                j biological chemistry   \n",
       "227                          bmc genomics   \n",
       "277                                trials   \n",
       "358  expert reviews in molecular medicine   \n",
       "404                        j cell science   \n",
       "\n",
       "                                               article      cost  \n",
       "149  picomolar nitric oxide signals from central ne...  999999.0  \n",
       "227  phenotypic, genomic, and transcriptional chara...  999999.0  \n",
       "277  community resource centres to improve the heal...  999999.0  \n",
       "358  pharmacological targets in the ubiquitin syste...  999999.0  \n",
       "404  pka isoforms coordinate mrna fate during nutri...  999999.0  "
      ]
     },
     "execution_count": 23,
     "metadata": {},
     "output_type": "execute_result"
    }
   ],
   "source": [
    "# Looks like 999999 is used as a NaN value\n",
    "df[df['cost']==999999].head(5)"
   ]
  },
  {
   "cell_type": "code",
   "execution_count": 24,
   "metadata": {},
   "outputs": [],
   "source": [
    "# Change 999999 values for NaN\n",
    "df['cost'] = [float('NaN') if item > 999000 else item  for item in df['cost']]"
   ]
  },
  {
   "cell_type": "code",
   "execution_count": 25,
   "metadata": {},
   "outputs": [],
   "source": [
    "#df[\"cost\"] = df.groupby(\"journal\").transform(lambda x: x.fillna(x.mean()))['cost'] \n",
    "grouped = df.groupby('journal').cost.agg(['max', 'min', 'count'])"
   ]
  },
  {
   "cell_type": "code",
   "execution_count": 26,
   "metadata": {},
   "outputs": [
    {
     "name": "stdout",
     "output_type": "stream",
     "text": [
      "                            max      min  count\n",
      "journal                                        \n",
      "movement disorders     201024.0  1005.00     15\n",
      "plos one               192645.0   122.31    200\n",
      "public service review    6000.0  6000.00      1\n",
      "lancet neurology         5760.0  4320.00      2\n",
      "lancet                   4800.0   838.35      5\n"
     ]
    }
   ],
   "source": [
    "print(grouped.sort_values('max', ascending=False).head())"
   ]
  },
  {
   "cell_type": "code",
   "execution_count": 27,
   "metadata": {},
   "outputs": [
    {
     "name": "stdout",
     "output_type": "stream",
     "text": [
      "                      PMID/PMCID publisher             journal  \\\n",
      "1975                 PMC3739940      Wiley  movement disorders   \n",
      "1976                  PMC3660780     Wiley  movement disorders   \n",
      "1977              PMC3633239\\n\\n     Wiley  movement disorders   \n",
      "1978              PMC3664413\\n\\n     Wiley  movement disorders   \n",
      "1979              PMC3664414\\n\\n     Wiley  movement disorders   \n",
      "1980              PMC3664415\\n\\n     Wiley  movement disorders   \n",
      "1981              PMC3664426\\n\\n     Wiley  movement disorders   \n",
      "1982              PMC3664430\\n\\n     Wiley  movement disorders   \n",
      "1983              PMC3672686\\n\\n     Wiley  movement disorders   \n",
      "1984                  PMC3748791     Wiley  movement disorders   \n",
      "1985                         NaN     Wiley  movement disorders   \n",
      "1986                         NaN     Wiley  movement disorders   \n",
      "1987              PMC3664409\\n\\n     Wiley  movement disorders   \n",
      "1988                 PMC3739929      Wiley  movement disorders   \n",
      "1989  Pub online first July 2013     Wiley  movement disorders   \n",
      "\n",
      "                                                article       cost  \n",
      "1975  somatic alpha-synuclein mutations in parkinson...    1005.00  \n",
      "1976  is transcranial sonography useful to distingui...    1500.00  \n",
      "1977  psychogenic facial movement disorders: clinica...    2010.24  \n",
      "1978  moving towards ?laboratory-supported? criteria...    2010.24  \n",
      "1979  identical twins with leucine rich repeat kinas...    2010.24  \n",
      "1980  sensory tricks in primary cervical dystonia de...    2010.24  \n",
      "1981  dystonia with brain manganese accumulation due...    2010.24  \n",
      "1982  thap1 mutations and dystonia phenotypes: a met...    2010.24  \n",
      "1983  ability to cycle despite severe freezing of ga...    2010.24  \n",
      "1984      primary progressive aphasia with parkinsonism    2275.58  \n",
      "1985  botulinum toxin injections reduce associative ...    2379.69  \n",
      "1986  hyposmia and cognitive impairment in gaucher d...    2395.87  \n",
      "1987  limb amputations in fixed dystonia: a form of ...  201024.00  \n",
      "1988         parkin disease and the lewy body conundrum    1500.00  \n",
      "1989  genotype and phenotype in parkinson's disease-...    1500.00  \n"
     ]
    }
   ],
   "source": [
    "# Look into why movement disorders is so expensive - appears one price is off\n",
    "print(df[df['journal']=='movement disorders'])"
   ]
  },
  {
   "cell_type": "code",
   "execution_count": 28,
   "metadata": {},
   "outputs": [
    {
     "name": "stdout",
     "output_type": "stream",
     "text": [
      "PMID/PMCID                                       PMC3664409\\n\\n\n",
      "publisher                                                 Wiley\n",
      "journal                                      movement disorders\n",
      "article       limb amputations in fixed dystonia: a form of ...\n",
      "cost                                                    2010.24\n",
      "Name: 1987, dtype: object\n"
     ]
    }
   ],
   "source": [
    "# We find that:\n",
    "#    1987  Limb amputations in fixed dystonia: a form of ...  201024.00  \n",
    "# This price is likely a typo considering how many of them are listed at 2010.24\n",
    "# Fix the typo\n",
    "\n",
    "df.iloc[1987, df.columns.get_loc('cost')] = df.iloc[1987, df.columns.get_loc('cost')]/100\n",
    "print(df.iloc[1987])"
   ]
  },
  {
   "cell_type": "code",
   "execution_count": 29,
   "metadata": {},
   "outputs": [
    {
     "name": "stdout",
     "output_type": "stream",
     "text": [
      "             PMID/PMCID                  publisher   journal  \\\n",
      "1470            3547931  Public Library of Science  plos one   \n",
      "1468  PMCID: PMC3617094  Public Library of Science  plos one   \n",
      "1467  PMCID: PMC3649981  Public Library of Science  plos one   \n",
      "1466           23853603  Public Library of Science  plos one   \n",
      "1465           23991236  Public Library of Science  plos one   \n",
      "\n",
      "                                                article       cost  \n",
      "1470  reducing stock-outs of life saving malaria com...  192645.00  \n",
      "1468  functional il6r 368ala allele impairs classica...    1785.36  \n",
      "1467  duplication and retention biases of essential ...    1775.50  \n",
      "1466  mosaic vsg's and the sclae of trypanosoma bruc...    1745.00  \n",
      "1465  in vivo imaging of trypanosome brain interacti...    1692.00  \n"
     ]
    }
   ],
   "source": [
    "# Look into PLOS expensive article\n",
    "print(df[df['journal']=='plos one'].sort_values('cost', ascending=False).head())"
   ]
  },
  {
   "cell_type": "code",
   "execution_count": 30,
   "metadata": {},
   "outputs": [
    {
     "name": "stdout",
     "output_type": "stream",
     "text": [
      "PMID/PMCID                                              3547931\n",
      "publisher                             Public Library of Science\n",
      "journal                                                plos one\n",
      "article       reducing stock-outs of life saving malaria com...\n",
      "cost                                                        NaN\n",
      "Name: 1470, dtype: object\n"
     ]
    }
   ],
   "source": [
    "# It is less clear if this value is a result of a decimal place typo, so convert it to NaN\n",
    "df.iloc[1470, df.columns.get_loc('cost')] = float('NaN')\n",
    "print(df.iloc[1470])"
   ]
  },
  {
   "cell_type": "markdown",
   "metadata": {},
   "source": [
    "### Mean, median, and std of cost of different journal articles"
   ]
  },
  {
   "cell_type": "code",
   "execution_count": 31,
   "metadata": {},
   "outputs": [
    {
     "name": "stdout",
     "output_type": "stream",
     "text": [
      "                               mean   median         std  count\n",
      "journal                                                        \n",
      "plos one                 935.577236   896.99  194.654385    199\n",
      "j biological chemistry  1385.794638  1314.53  390.485278     69\n",
      "neuroimage              2215.168276  2326.43  266.653947     29\n",
      "nucleic acids research  1149.000000   852.00  442.940447     26\n",
      "plos genetics           1643.110909  1712.73  153.366825     22\n"
     ]
    }
   ],
   "source": [
    "# Sorted by most number of articles\n",
    "grouped = df.groupby('journal').cost.agg(['mean', 'median', 'std', 'count'])\n",
    "print(grouped.sort_values('count', ascending=False).head())"
   ]
  },
  {
   "cell_type": "code",
   "execution_count": 32,
   "metadata": {},
   "outputs": [
    {
     "name": "stdout",
     "output_type": "stream",
     "text": [
      "                          mean   median          std  count\n",
      "journal                                                    \n",
      "public service review  6000.00  6000.00          NaN      1\n",
      "lancet neurology       5040.00  5040.00  1018.233765      2\n",
      "cell j                 4041.05  4041.05          NaN      1\n",
      "cell host and microbe  4032.46  4032.46   273.763461      2\n",
      "immunity               3934.75  3934.75   190.791552      2\n"
     ]
    }
   ],
   "source": [
    "# Sorted by most expensive articles\n",
    "grouped_expensive = df.groupby('journal').cost.agg(['mean', 'median', 'std', 'count'])\n",
    "print(grouped.sort_values('mean', ascending=False).head())"
   ]
  },
  {
   "cell_type": "markdown",
   "metadata": {},
   "source": [
    "### Price grouped by subject"
   ]
  },
  {
   "cell_type": "code",
   "execution_count": 33,
   "metadata": {},
   "outputs": [],
   "source": [
    "# Group the subjects\n",
    "categories = {'cell': 'cell',\n",
    "              'health': 'health',\n",
    "              'clinical': 'health',\n",
    "              'nutrition': 'health',\n",
    "              'arthritis': 'health',\n",
    "              'depression': 'health',\n",
    "              'diabe': 'health',\n",
    "              'derma': 'health',\n",
    "              'epilep': 'health',\n",
    "              'obesity': 'health',\n",
    "              'preventive medicine': 'health',\n",
    "              'gene': 'genetic',\n",
    "              'genom': 'genetic',\n",
    "              'bio': 'bio',\n",
    "              'neuro': 'brain',\n",
    "              'brain': 'brain',\n",
    "              'cereb': 'brain',\n",
    "              'cortex': 'brain',\n",
    "              'hippocampus': 'brain',\n",
    "              'parasit': 'parasite',\n",
    "              'vir': 'viruses, diseases, and pathogens',\n",
    "              'pathogen': 'viruses, diseases, and pathogens',\n",
    "              'movement': 'health',\n",
    "              'nature': 'nature',\n",
    "              'paediatric': 'obstetrics and pediatric',\n",
    "              'child': 'obstetrics and pediatric',\n",
    "              'hepa': 'hepa',\n",
    "              'chem': 'chem',\n",
    "              'psychia': 'psychiatry and psychology',\n",
    "              'psycho': 'psychiatry and psychology',\n",
    "              'aids': 'viruses, diseases, and pathogens',\n",
    "              'hiv': 'viruses, diseases, and pathogens',\n",
    "              'malaria': 'viruses, diseases, and pathogens',\n",
    "              'disease': 'viruses, diseases, and pathogens',\n",
    "              'infection': 'viruses, diseases, and pathogens',\n",
    "              'pathol': 'viruses, diseases, and pathogens',\n",
    "              'pharm': 'medicine',\n",
    "              'medicine': 'medicine',\n",
    "              'blood': 'blood',\n",
    "              'hema': 'blood',\n",
    "              'nucleic acids': 'cell',\n",
    "              'animal': 'nature',\n",
    "              'immunolo': 'immunology',\n",
    "              'addiction': 'health',\n",
    "              'drug and alcohol': 'health',\n",
    "              'alcohol': 'health',\n",
    "              'history': 'history',\n",
    "              'rna': 'cell',\n",
    "              'crystal': 'crystal',\n",
    "              'haematologica': 'blood',\n",
    "              'epidemiology': 'viruses, diseases, and pathogens',\n",
    "              'fertility': 'obstetrics and pediatric',\n",
    "              'fetus': 'obstetrics and pediatric',\n",
    "              'fetal': 'obstetrics and pediatric',\n",
    "              'obstet': 'obstetrics and pediatric',\n",
    "              'endocrin': 'endocrinology',\n",
    "              'cardio': 'health',\n",
    "              'behavior research': 'psychiatry and psychology',\n",
    "              'chronic illness': 'health',\n",
    "              'cognition': 'brain', \n",
    "              'allergy': 'health',\n",
    "              'neural': 'brain'}"
   ]
  },
  {
   "cell_type": "code",
   "execution_count": 34,
   "metadata": {},
   "outputs": [],
   "source": [
    "df['subject'] = 'other'\n",
    "# If the article contains a key word, categorize it as that\n",
    "for key, value in categories.items():\n",
    "    df['subject'] = np.where(df['article'].str.contains(key)==True, value, df['subject'])\n",
    "\n",
    "# If the journal contains a key word, categorize as that, do this second so that journal\n",
    "# categories take precedence\n",
    "for key, value in categories.items():\n",
    "    df['subject'] = np.where(df['journal'].str.contains(key)==True, value, df['subject'])"
   ]
  },
  {
   "cell_type": "code",
   "execution_count": 35,
   "metadata": {},
   "outputs": [
    {
     "data": {
      "text/plain": [
       "viruses, diseases, and pathogens    331\n",
       "other                               258\n",
       "brain                               255\n",
       "cell                                194\n",
       "chem                                181\n",
       "bio                                 181\n",
       "health                              162\n",
       "genetic                             149\n",
       "medicine                            111\n",
       "psychiatry and psychology            72\n",
       "immunology                           33\n",
       "obstetrics and pediatric             31\n",
       "history                              30\n",
       "endocrinology                        30\n",
       "blood                                28\n",
       "nature                               28\n",
       "parasite                             24\n",
       "hepa                                 16\n",
       "crystal                              13\n",
       "Name: subject, dtype: int64"
      ]
     },
     "execution_count": 35,
     "metadata": {},
     "output_type": "execute_result"
    }
   ],
   "source": [
    "df['subject'].value_counts()"
   ]
  },
  {
   "cell_type": "code",
   "execution_count": 36,
   "metadata": {},
   "outputs": [],
   "source": [
    "others = df[df['subject']=='other']\n",
    "group_others = others.groupby('journal').cost.agg(['count']).sort_values('count', ascending=False)\n",
    "#print(group_others)\n"
   ]
  },
  {
   "cell_type": "code",
   "execution_count": 37,
   "metadata": {},
   "outputs": [],
   "source": [
    "subject_price = df.groupby('subject').cost.agg(['mean', 'count']).sort_values('mean', ascending=False)"
   ]
  },
  {
   "cell_type": "code",
   "execution_count": 38,
   "metadata": {},
   "outputs": [
    {
     "name": "stdout",
     "output_type": "stream",
     "text": [
      "                                         mean  count\n",
      "subject                                             \n",
      "nature                            2658.186667     27\n",
      "psychiatry and psychology         2240.165833     72\n",
      "immunology                        2093.797879     33\n",
      "endocrinology                     2021.697931     29\n",
      "medicine                          1943.641038    106\n",
      "brain                             1943.585685    248\n",
      "cell                              1901.615319    188\n",
      "bio                               1887.538947    180\n",
      "hepa                              1877.372500     16\n",
      "parasite                          1826.238636     22\n",
      "health                            1794.164074    162\n",
      "viruses, diseases, and pathogens  1762.223189    325\n",
      "genetic                           1750.571261    145\n",
      "obstetrics and pediatric          1741.887931     29\n",
      "history                           1709.245517     29\n",
      "other                             1649.332440    250\n",
      "chem                              1640.613933    178\n",
      "blood                             1529.835926     27\n",
      "crystal                           1218.890769     13\n"
     ]
    }
   ],
   "source": [
    "print(subject_price)"
   ]
  },
  {
   "cell_type": "code",
   "execution_count": null,
   "metadata": {},
   "outputs": [],
   "source": []
  },
  {
   "cell_type": "code",
   "execution_count": null,
   "metadata": {},
   "outputs": [],
   "source": []
  }
 ],
 "metadata": {
  "kernelspec": {
   "display_name": "Python 3",
   "language": "python",
   "name": "python3"
  },
  "language_info": {
   "codemirror_mode": {
    "name": "ipython",
    "version": 3
   },
   "file_extension": ".py",
   "mimetype": "text/x-python",
   "name": "python",
   "nbconvert_exporter": "python",
   "pygments_lexer": "ipython3",
   "version": "3.7.0"
  }
 },
 "nbformat": 4,
 "nbformat_minor": 2
}
